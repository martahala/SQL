{
 "cells": [
  {
   "cell_type": "code",
   "execution_count": 2,
   "id": "e64d6d37-39af-47cd-b2fe-99ef007fa60d",
   "metadata": {},
   "outputs": [
    {
     "data": {
      "text/html": [
       "<div>\n",
       "<style scoped>\n",
       "    .dataframe tbody tr th:only-of-type {\n",
       "        vertical-align: middle;\n",
       "    }\n",
       "\n",
       "    .dataframe tbody tr th {\n",
       "        vertical-align: top;\n",
       "    }\n",
       "\n",
       "    .dataframe thead th {\n",
       "        text-align: right;\n",
       "    }\n",
       "</style>\n",
       "<table border=\"1\" class=\"dataframe\">\n",
       "  <thead>\n",
       "    <tr style=\"text-align: right;\">\n",
       "      <th></th>\n",
       "      <th>age</th>\n",
       "      <th>workclass</th>\n",
       "      <th>fnlwgt</th>\n",
       "      <th>education</th>\n",
       "      <th>education-num</th>\n",
       "      <th>marital-status</th>\n",
       "      <th>occupation</th>\n",
       "      <th>relationship</th>\n",
       "      <th>race</th>\n",
       "      <th>sex</th>\n",
       "      <th>capital-gain</th>\n",
       "      <th>capital-loss</th>\n",
       "      <th>hours-per-week</th>\n",
       "      <th>native-country</th>\n",
       "      <th>salary</th>\n",
       "    </tr>\n",
       "  </thead>\n",
       "  <tbody>\n",
       "    <tr>\n",
       "      <th>0</th>\n",
       "      <td>39</td>\n",
       "      <td>State-gov</td>\n",
       "      <td>77516</td>\n",
       "      <td>Bachelors</td>\n",
       "      <td>13</td>\n",
       "      <td>Never-married</td>\n",
       "      <td>Adm-clerical</td>\n",
       "      <td>Not-in-family</td>\n",
       "      <td>White</td>\n",
       "      <td>Male</td>\n",
       "      <td>2174</td>\n",
       "      <td>0</td>\n",
       "      <td>40</td>\n",
       "      <td>United-States</td>\n",
       "      <td>&lt;=50K</td>\n",
       "    </tr>\n",
       "    <tr>\n",
       "      <th>1</th>\n",
       "      <td>50</td>\n",
       "      <td>Self-emp-not-inc</td>\n",
       "      <td>83311</td>\n",
       "      <td>Bachelors</td>\n",
       "      <td>13</td>\n",
       "      <td>Married-civ-spouse</td>\n",
       "      <td>Exec-managerial</td>\n",
       "      <td>Husband</td>\n",
       "      <td>White</td>\n",
       "      <td>Male</td>\n",
       "      <td>0</td>\n",
       "      <td>0</td>\n",
       "      <td>13</td>\n",
       "      <td>United-States</td>\n",
       "      <td>&lt;=50K</td>\n",
       "    </tr>\n",
       "    <tr>\n",
       "      <th>2</th>\n",
       "      <td>38</td>\n",
       "      <td>Private</td>\n",
       "      <td>215646</td>\n",
       "      <td>HS-grad</td>\n",
       "      <td>9</td>\n",
       "      <td>Divorced</td>\n",
       "      <td>Handlers-cleaners</td>\n",
       "      <td>Not-in-family</td>\n",
       "      <td>White</td>\n",
       "      <td>Male</td>\n",
       "      <td>0</td>\n",
       "      <td>0</td>\n",
       "      <td>40</td>\n",
       "      <td>United-States</td>\n",
       "      <td>&lt;=50K</td>\n",
       "    </tr>\n",
       "    <tr>\n",
       "      <th>3</th>\n",
       "      <td>53</td>\n",
       "      <td>Private</td>\n",
       "      <td>234721</td>\n",
       "      <td>11th</td>\n",
       "      <td>7</td>\n",
       "      <td>Married-civ-spouse</td>\n",
       "      <td>Handlers-cleaners</td>\n",
       "      <td>Husband</td>\n",
       "      <td>Black</td>\n",
       "      <td>Male</td>\n",
       "      <td>0</td>\n",
       "      <td>0</td>\n",
       "      <td>40</td>\n",
       "      <td>United-States</td>\n",
       "      <td>&lt;=50K</td>\n",
       "    </tr>\n",
       "    <tr>\n",
       "      <th>4</th>\n",
       "      <td>28</td>\n",
       "      <td>Private</td>\n",
       "      <td>338409</td>\n",
       "      <td>Bachelors</td>\n",
       "      <td>13</td>\n",
       "      <td>Married-civ-spouse</td>\n",
       "      <td>Prof-specialty</td>\n",
       "      <td>Wife</td>\n",
       "      <td>Black</td>\n",
       "      <td>Female</td>\n",
       "      <td>0</td>\n",
       "      <td>0</td>\n",
       "      <td>40</td>\n",
       "      <td>Cuba</td>\n",
       "      <td>&lt;=50K</td>\n",
       "    </tr>\n",
       "  </tbody>\n",
       "</table>\n",
       "</div>"
      ],
      "text/plain": [
       "   age         workclass  fnlwgt  education  education-num  \\\n",
       "0   39         State-gov   77516  Bachelors             13   \n",
       "1   50  Self-emp-not-inc   83311  Bachelors             13   \n",
       "2   38           Private  215646    HS-grad              9   \n",
       "3   53           Private  234721       11th              7   \n",
       "4   28           Private  338409  Bachelors             13   \n",
       "\n",
       "       marital-status         occupation   relationship   race     sex  \\\n",
       "0       Never-married       Adm-clerical  Not-in-family  White    Male   \n",
       "1  Married-civ-spouse    Exec-managerial        Husband  White    Male   \n",
       "2            Divorced  Handlers-cleaners  Not-in-family  White    Male   \n",
       "3  Married-civ-spouse  Handlers-cleaners        Husband  Black    Male   \n",
       "4  Married-civ-spouse     Prof-specialty           Wife  Black  Female   \n",
       "\n",
       "   capital-gain  capital-loss  hours-per-week native-country salary  \n",
       "0          2174             0              40  United-States  <=50K  \n",
       "1             0             0              13  United-States  <=50K  \n",
       "2             0             0              40  United-States  <=50K  \n",
       "3             0             0              40  United-States  <=50K  \n",
       "4             0             0              40           Cuba  <=50K  "
      ]
     },
     "execution_count": 2,
     "metadata": {},
     "output_type": "execute_result"
    }
   ],
   "source": [
    "import pandas as pd\n",
    "df = pd.read_csv(\"/adult.data.csv\") # Your file path\n",
    "df.head()"
   ]
  },
  {
   "cell_type": "code",
   "execution_count": 32,
   "id": "52b277d5-2370-4fbb-b17c-9d266bec66a2",
   "metadata": {},
   "outputs": [
    {
     "name": "stdout",
     "output_type": "stream",
     "text": [
      "sex\n",
      "Male      21790\n",
      "Female    10771\n",
      "Name: count, dtype: int64\n"
     ]
    }
   ],
   "source": [
    "# 1. Count how many men and women (column sex) are present in this dataset.\n",
    "sex_count = df['sex'].value_counts()\n",
    "\n",
    "print(sex_count)"
   ]
  },
  {
   "cell_type": "code",
   "execution_count": 4,
   "id": "bf7a68ae-d29e-4943-ac18-039032cb8863",
   "metadata": {},
   "outputs": [
    {
     "name": "stdout",
     "output_type": "stream",
     "text": [
      "Average age of men: 39.0\n"
     ]
    }
   ],
   "source": [
    "# 2. What is the average age of men (age column) across the entire dataset?\n",
    "mean_age_men = df[df['sex'] == 'Male']['age'].mean().round()\n",
    "\n",
    "print(\"Average age of men:\", mean_age_men)"
   ]
  },
  {
   "cell_type": "code",
   "execution_count": 43,
   "id": "999d91c1-9ce6-4a0a-a2a4-5ab98a020432",
   "metadata": {},
   "outputs": [
    {
     "name": "stdout",
     "output_type": "stream",
     "text": [
      "Proportion of US citizens: 89.59%\n"
     ]
    }
   ],
   "source": [
    "# 3. What is the proportion of United States citizens (native-country column)?\n",
    "us_citizen_share = (df['native-country'] == 'United-States').mean() * 100\n",
    "\n",
    "print(f\"Proportion of US citizens: {us_citizen_share:.2f}%\")"
   ]
  },
  {
   "cell_type": "code",
   "execution_count": 13,
   "id": "52d8a597-5cad-489f-a860-581eba9c22cf",
   "metadata": {},
   "outputs": [
    {
     "name": "stdout",
     "output_type": "stream",
     "text": [
      "         mean    std\n",
      "salary              \n",
      "<=50K   36.78  14.02\n",
      ">50K    44.25  10.52\n"
     ]
    }
   ],
   "source": [
    "# 4-5. Calculate the mean and standard deviation of age for those earning more than 50K per year (salary column) and for those earning less than 50K per year.\n",
    "\n",
    "stats_income = df.groupby('salary')['age'].agg(['mean', 'std']).round(2)\n",
    "\n",
    "print(stats_income)"
   ]
  },
  {
   "cell_type": "code",
   "execution_count": 44,
   "id": "46835323-fb85-41cf-9d08-acbbccb8efb7",
   "metadata": {},
   "outputs": [
    {
     "name": "stdout",
     "output_type": "stream",
     "text": [
      "Number of people earning >50K without higher education: 3306\n",
      "Examples:\n",
      "education\n",
      "HS-grad         1675\n",
      "Some-college    1387\n",
      "10th              62\n",
      "11th              60\n",
      "7th-8th           40\n",
      "12th              33\n",
      "9th               27\n",
      "5th-6th           16\n",
      "1st-4th            6\n",
      "Name: count, dtype: int64\n"
     ]
    }
   ],
   "source": [
    "# 6.  Is it true that people earning more than 50K have at least a higher education?\n",
    "# (education column – Bachelors, Prof-school, Assoc-acdm, Assoc-voc, Masters, or Doctorate)\n",
    "\n",
    "# Define the list of \"higher education and above\"\n",
    "higher_edu = [\"Bachelors\", \"Prof-school\", \"Assoc-acdm\", \n",
    "              \"Assoc-voc\", \"Masters\", \"Doctorate\"]\n",
    "\n",
    "# Filter those who earn more than 50K\n",
    "high_income = df[df['salary'] == '>50K']\n",
    "\n",
    "# Check if there are people without higher education\n",
    "non_higher = high_income[high_income['education'].isin(higher_edu) == False]\n",
    "\n",
    "print(\"Number of people earning >50K without higher education:\", len(non_higher))\n",
    "print(\"Examples:\")\n",
    "print(non_higher['education'].value_counts())"
   ]
  },
  {
   "cell_type": "code",
   "execution_count": 45,
   "id": "fe7eff50-9b6c-4704-8563-5f746d4ac6bf",
   "metadata": {},
   "outputs": [
    {
     "name": "stdout",
     "output_type": "stream",
     "text": [
      "                             count       mean        std   min   25%   50%  \\\n",
      "race               sex                                                       \n",
      "Amer-Indian-Eskimo Female    119.0  37.117647  13.114991  17.0  27.0  36.0   \n",
      "                   Male      192.0  37.208333  12.049563  17.0  28.0  35.0   \n",
      "Asian-Pac-Islander Female    346.0  35.089595  12.300845  17.0  25.0  33.0   \n",
      "                   Male      693.0  39.073593  12.883944  18.0  29.0  37.0   \n",
      "Black              Female   1555.0  37.854019  12.637197  17.0  28.0  37.0   \n",
      "                   Male     1569.0  37.682600  12.882612  17.0  27.0  36.0   \n",
      "Other              Female    109.0  31.678899  11.631599  17.0  23.0  29.0   \n",
      "                   Male      162.0  34.654321  11.355531  17.0  26.0  32.0   \n",
      "White              Female   8642.0  36.811618  14.329093  17.0  25.0  35.0   \n",
      "                   Male    19174.0  39.652498  13.436029  17.0  29.0  38.0   \n",
      "\n",
      "                             75%   max  \n",
      "race               sex                  \n",
      "Amer-Indian-Eskimo Female  46.00  80.0  \n",
      "                   Male    45.00  82.0  \n",
      "Asian-Pac-Islander Female  43.75  75.0  \n",
      "                   Male    46.00  90.0  \n",
      "Black              Female  46.00  90.0  \n",
      "                   Male    46.00  90.0  \n",
      "Other              Female  39.00  74.0  \n",
      "                   Male    42.00  77.0  \n",
      "White              Female  46.00  90.0  \n",
      "                   Male    49.00  90.0  \n",
      "Maximum age of Asian-Pac-Islander males: 90\n"
     ]
    }
   ],
   "source": [
    "# 7. Display age statistics for each race (race column) and gender (sex column).\n",
    "# Use groupby and describe.\n",
    "# Find the maximum age of males of the Asian-Pac-Islander race this way.\n",
    "\n",
    "# Group by race and gender, and display age statistics\n",
    "stats_race = df.groupby(['race', 'sex'])['age'].describe()\n",
    "print(stats_race)\n",
    "\n",
    "# Find the maximum age of males of the Asian-Pac-Islander race\n",
    "max_age_API_men = df[(df['race'] == 'Asian-Pac-Islander') & (df['sex'] == 'Male')]['age'].max()\n",
    "print(\"Maximum age of Asian-Pac-Islander males:\", max_age_API_men)"
   ]
  },
  {
   "cell_type": "code",
   "execution_count": 6,
   "id": "b36e13be-27a1-4235-8528-8e1b0869b95f",
   "metadata": {},
   "outputs": [
    {
     "name": "stdout",
     "output_type": "stream",
     "text": [
      "married\n",
      "False     8.45\n",
      "True     44.05\n",
      "Name: salary, dtype: float64\n"
     ]
    }
   ],
   "source": [
    "# 8. Among whom is the proportion of high earners (>50K) higher: married or single men (marital-status column)?\n",
    "# We consider married those whose marital-status starts with \"Married\"\n",
    "# (Married-civ-spouse, Married-spouse-absent, or Married-AF-spouse), and the rest are considered single.\n",
    "\n",
    "# Filter only men\n",
    "men = df[df['sex'] == 'Male'].copy()\n",
    "\n",
    "# Married if marital-status starts with \"Married\"\n",
    "men['married'] = men['marital-status'].str.startswith('Married')\n",
    "\n",
    "# Calculate the proportion of men earning >50K among married and single men\n",
    "income_share = (\n",
    "    men.groupby('married')['salary']\n",
    "       .apply(lambda x: (x == '>50K').mean() * 100)\n",
    "       .round(2)\n",
    ")\n",
    "\n",
    "print(income_share)\n"
   ]
  },
  {
   "cell_type": "code",
   "execution_count": 47,
   "id": "e2e8ba4d-6554-433b-96ef-7838d3f48cd9",
   "metadata": {},
   "outputs": [
    {
     "name": "stdout",
     "output_type": "stream",
     "text": [
      "Maximum number of hours per week: 99\n",
      "People who work the maximum number of hours: 85\n",
      "Percentage of people with salary >50K: 29.41%\n"
     ]
    }
   ],
   "source": [
    "# 9. What is the maximum number of hours a person works per week (hours-per-week column)?\n",
    "# How many people work this number of hours, and what percentage of them are high earners (>50K)?\n",
    "\n",
    "\n",
    "# Maximum number of hours per week\n",
    "max_hours_per_week = df['hours-per-week'].max()\n",
    "print(\"Maximum number of hours per week:\", max_hours_per_week)\n",
    "\n",
    "# Filter people who work the maximum number of hours\n",
    "max_hours_people = df[df['hours-per-week'] == max_hours_per_week]\n",
    "\n",
    "num_people = len(max_hours_people)\n",
    "print(\"People who work the maximum number of hours:\", num_people)\n",
    "\n",
    "# Percentage of people with salary >50K\n",
    "high_income_pct = (max_hours_people['salary'] == '>50K').mean() * 100\n",
    "print(f\"Percentage of people with salary >50K: {high_income_pct:.2f}%\")"
   ]
  },
  {
   "cell_type": "code",
   "execution_count": 48,
   "id": "43cafc11-7a6a-43be-977c-b32c876e6e20",
   "metadata": {},
   "outputs": [
    {
     "name": "stdout",
     "output_type": "stream",
     "text": [
      "native-country  salary\n",
      "?               <=50K     40.16\n",
      "                >50K      45.55\n",
      "Cambodia        <=50K     41.42\n",
      "                >50K      40.00\n",
      "Canada          <=50K     37.91\n",
      "                          ...  \n",
      "United-States   >50K      45.51\n",
      "Vietnam         <=50K     37.19\n",
      "                >50K      39.20\n",
      "Yugoslavia      <=50K     41.60\n",
      "                >50K      49.50\n",
      "Name: hours-per-week, Length: 82, dtype: float64\n",
      "salary                      <=50K   >50K\n",
      "native-country                          \n",
      "?                           40.16  45.55\n",
      "Cambodia                    41.42  40.00\n",
      "Canada                      37.91  45.64\n",
      "China                       37.38  38.90\n",
      "Columbia                    38.68  50.00\n",
      "Cuba                        37.99  42.44\n",
      "Dominican-Republic          42.34  47.00\n",
      "Ecuador                     38.04  48.75\n",
      "El-Salvador                 36.03  45.00\n",
      "England                     40.48  44.53\n",
      "France                      41.06  50.75\n",
      "Germany                     39.14  44.98\n",
      "Greece                      41.81  50.62\n",
      "Guatemala                   39.36  36.67\n",
      "Haiti                       36.33  42.75\n",
      "Holand-Netherlands          40.00    NaN\n",
      "Honduras                    34.33  60.00\n",
      "Hong                        39.14  45.00\n",
      "Hungary                     31.30  50.00\n",
      "India                       38.23  46.48\n",
      "Iran                        41.44  47.50\n",
      "Ireland                     40.95  48.00\n",
      "Italy                       39.62  45.40\n",
      "Jamaica                     38.24  41.10\n",
      "Japan                       41.00  47.96\n",
      "Laos                        40.38  40.00\n",
      "Mexico                      40.00  46.58\n",
      "Nicaragua                   36.09  37.50\n",
      "Outlying-US(Guam-USVI-etc)  41.86    NaN\n",
      "Peru                        35.07  40.00\n",
      "Philippines                 38.07  43.03\n",
      "Poland                      38.17  39.00\n",
      "Portugal                    41.94  41.50\n",
      "Puerto-Rico                 38.47  39.42\n",
      "Scotland                    39.44  46.67\n",
      "South                       40.16  51.44\n",
      "Taiwan                      33.77  46.80\n",
      "Thailand                    42.87  58.33\n",
      "Trinadad&Tobago             37.06  40.00\n",
      "United-States               38.80  45.51\n",
      "Vietnam                     37.19  39.20\n",
      "Yugoslavia                  41.60  49.50\n"
     ]
    }
   ],
   "source": [
    "# 10. Calculate the average working hours (hours-per-week) for low and high earners (salary column) for each country (native-country).\n",
    "\n",
    "# Average working hours by country and salary\n",
    "hours_stats = df.groupby(['native-country', 'salary'])['hours-per-week'].mean().round(2)\n",
    "\n",
    "print(hours_stats)\n",
    "\n",
    "# Create pivot-table\n",
    "hours_pivot = df.pivot_table(\n",
    "    index='native-country', \n",
    "    columns='salary', \n",
    "    values='hours-per-week', \n",
    "    aggfunc='mean'\n",
    ").round(2)\n",
    "\n",
    "print(hours_pivot)"
   ]
  },
  {
   "cell_type": "code",
   "execution_count": 8,
   "id": "d1813225-5525-43d7-a963-ca753de18feb",
   "metadata": {},
   "outputs": [
    {
     "name": "stdout",
     "output_type": "stream",
     "text": [
      "age_group\n",
      "adult      17883\n",
      "young      14049\n",
      "retiree      629\n",
      "Name: count, dtype: int64\n"
     ]
    }
   ],
   "source": [
    "# 11. Group people by age groups young, adult, retiree, where:\n",
    "# young corresponds to 16–35 years\n",
    "# adult corresponds to 35–70 years\n",
    "#retiree corresponds to 70–100 years\n",
    "\n",
    "# Function to classify by age\n",
    "def assign_age_group(age):\n",
    "    if 16 <= age < 35:\n",
    "        return 'young'\n",
    "    elif 35 <= age < 70:\n",
    "        return 'adult'\n",
    "    elif 70 <= age <= 100:\n",
    "        return 'retiree'\n",
    "    else:\n",
    "        return 'unknown'  # To handle possible anomalous values\n",
    "\n",
    "# Create a new column 'age_group'\n",
    "df['age_group'] = df['age'].apply(assign_age_group)\n",
    "\n",
    "# Check the distribution\n",
    "print(df['age_group'].value_counts())"
   ]
  },
  {
   "cell_type": "code",
   "execution_count": 10,
   "id": "5c2c55d3-69c5-4f40-afe6-f081d4208006",
   "metadata": {},
   "outputs": [
    {
     "name": "stdout",
     "output_type": "stream",
     "text": [
      "Share of people earning >50K by age group (%):\n",
      "age_group\n",
      "adult      34.89\n",
      "retiree    17.97\n",
      "young      10.59\n",
      "Name: count, dtype: float64\n",
      "\n",
      "Age group with the highest proportion of >50K earners: adult\n"
     ]
    }
   ],
   "source": [
    "# 12-13.Determine the number of people earning >50K in each age group (AgeGroup column),\n",
    "# and also display the name of the age group where high earners (>50K) are most frequent.\n",
    "\n",
    "# Total number of people in each age group\n",
    "age_group_counts = df['age_group'].value_counts()\n",
    "\n",
    "# Number of people earning >50K in each age group\n",
    "high_income_counts = df[df['salary'] == '>50K']['age_group'].value_counts()\n",
    "\n",
    "# Share of high earners in each group (%)\n",
    "high_income_share = (high_income_counts / age_group_counts * 100).round(2)\n",
    "\n",
    "print(\"Share of people earning >50K by age group (%):\")\n",
    "print(high_income_share.sort_values(ascending=False))\n",
    "\n",
    "# Age group with the highest share\n",
    "most_high_income_group = high_income_share.idxmax()\n",
    "print(\"\\nAge group with the highest proportion of >50K earners:\", most_high_income_group)\n"
   ]
  },
  {
   "cell_type": "code",
   "execution_count": 51,
   "id": "14b79d24-16bb-4159-8679-395294fd651e",
   "metadata": {},
   "outputs": [
    {
     "name": "stdout",
     "output_type": "stream",
     "text": [
      "Number of people in each occupation group:\n",
      "occupation\n",
      "?                    1843\n",
      "Adm-clerical         3770\n",
      "Armed-Forces            9\n",
      "Craft-repair         4099\n",
      "Exec-managerial      4066\n",
      "Farming-fishing       994\n",
      "Handlers-cleaners    1370\n",
      "Machine-op-inspct    2002\n",
      "Other-service        3295\n",
      "Priv-house-serv       149\n",
      "Prof-specialty       4140\n",
      "Protective-serv       649\n",
      "Sales                3650\n",
      "Tech-support          928\n",
      "Transport-moving     1597\n",
      "dtype: int64\n",
      "Occupations that satisfy the filter conditions:\n",
      "['Armed-Forces']\n"
     ]
    }
   ],
   "source": [
    "# 14. Group people by occupation (occupation column) and determine the number of people in each group.\n",
    "# Then write a filter function filter_func that returns only those groups \n",
    "# where the average age (age column) is not greater than 40 and all workers work more than 5 hours per week (hours-per-week column).\n",
    "\n",
    "\n",
    "# Number of people in each occupation group\n",
    "occupation_counts = df.groupby('occupation').size()\n",
    "print(\"Number of people in each occupation group:\")\n",
    "print(occupation_counts)\n",
    "\n",
    "def filter_func(group):\n",
    "    return (group['age'].mean() <= 40) and (group['hours-per-week'].min() > 5)\n",
    "\n",
    "# Group by occupation\n",
    "occupation_groups = df.groupby('occupation')\n",
    "\n",
    "# Apply filter_func and keep only groups that meet the conditions\n",
    "filtered_occupations = occupation_groups.filter(filter_func)['occupation'].unique()\n",
    "\n",
    "print(\"Occupations that satisfy the filter conditions:\")\n",
    "print(filtered_occupations)"
   ]
  },
  {
   "cell_type": "code",
   "execution_count": null,
   "id": "34096994-fdcc-47e9-9c63-941b2fae2152",
   "metadata": {},
   "outputs": [],
   "source": []
  }
 ],
 "metadata": {
  "kernelspec": {
   "display_name": "Python 3 (ipykernel)",
   "language": "python",
   "name": "python3"
  },
  "language_info": {
   "codemirror_mode": {
    "name": "ipython",
    "version": 3
   },
   "file_extension": ".py",
   "mimetype": "text/x-python",
   "name": "python",
   "nbconvert_exporter": "python",
   "pygments_lexer": "ipython3",
   "version": "3.11.7"
  }
 },
 "nbformat": 4,
 "nbformat_minor": 5
}
